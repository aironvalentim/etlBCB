{
 "cells": [
  {
   "cell_type": "code",
   "execution_count": 2,
   "id": "95477d59",
   "metadata": {},
   "outputs": [],
   "source": [
    "import pandas as pd\n",
    "import sqlite3\n",
    "\n",
    "con = sqlite3.connect(\"src/datasets/etlbcb.db\")\n",
    "query = \"select * from meios_pagamentos_tri\"\n",
    "df = pd.read_sql(query, con)\n",
    "con.close()"
   ]
  },
  {
   "cell_type": "code",
   "execution_count": null,
   "id": "3c42250c",
   "metadata": {},
   "outputs": [
    {
     "name": "stdout",
     "output_type": "stream",
     "text": [
      "Media das transações pix por trimestre:  2490206.54\n"
     ]
    }
   ],
   "source": [
    "soma  = df['valorPix'].sum()\n",
    "total = df['valorPix'].count()\n",
    "\n",
    "print(\"Media das transações pix por trimestre: \",round(soma/total, 2))"
   ]
  },
  {
   "cell_type": "markdown",
   "id": "636c7036",
   "metadata": {},
   "source": [
    "Qual é a media do valor por transação pix no brasil?"
   ]
  },
  {
   "cell_type": "code",
   "execution_count": 26,
   "id": "bfb0f93b",
   "metadata": {},
   "outputs": [
    {
     "name": "stdout",
     "output_type": "stream",
     "text": [
      "Média de valores por transação:  430713035.67\n"
     ]
    }
   ],
   "source": [
    "soma_valores = df['valorPix'].sum()*1e6\n",
    "soma_transacoes = df['quantidadePix'].sum()\n",
    "media_por_transacoes = (soma_valores*1e3 / soma_transacoes)\n",
    "print(\"Média de valores por transação: \", round(media_por_transacoes, 2))"
   ]
  },
  {
   "cell_type": "markdown",
   "id": "5ee3f2a0",
   "metadata": {},
   "source": [
    "Resolvendo com o pandas\n"
   ]
  },
  {
   "cell_type": "code",
   "execution_count": null,
   "id": "61d79c2e",
   "metadata": {},
   "outputs": [
    {
     "data": {
      "text/plain": [
       "np.float64(2490206540416.667)"
      ]
     },
     "execution_count": 27,
     "metadata": {},
     "output_type": "execute_result"
    }
   ],
   "source": [
    "df['valorPix'].mean()*1e6"
   ]
  },
  {
   "cell_type": "code",
   "execution_count": 30,
   "id": "a344eaf4",
   "metadata": {},
   "outputs": [
    {
     "data": {
      "text/plain": [
       "np.float64(491.13828791552487)"
      ]
     },
     "execution_count": 30,
     "metadata": {},
     "output_type": "execute_result"
    }
   ],
   "source": [
    "(df['valorPix']/df['quantidadePix']).mean()*1e3"
   ]
  },
  {
   "cell_type": "code",
   "execution_count": 31,
   "id": "c0890469",
   "metadata": {},
   "outputs": [
    {
     "data": {
      "text/plain": [
       "np.float64(430.71303566561505)"
      ]
     },
     "execution_count": 31,
     "metadata": {},
     "output_type": "execute_result"
    }
   ],
   "source": [
    "soma1 = (df['valorPix']).mean()*1e3\n",
    "soma2 = (df['quantidadePix']).mean()\n",
    "soma1/soma2"
   ]
  },
  {
   "cell_type": "code",
   "execution_count": 32,
   "id": "ead8eade",
   "metadata": {},
   "outputs": [
    {
     "data": {
      "text/plain": [
       "0     0.429496\n",
       "1     0.421567\n",
       "2     0.409217\n",
       "3     0.399935\n",
       "4     0.406277\n",
       "5     0.402046\n",
       "6     0.415085\n",
       "7     0.424720\n",
       "8     0.428185\n",
       "9     0.449777\n",
       "10    0.466895\n",
       "11    0.486545\n",
       "12    0.499551\n",
       "13    0.543742\n",
       "14    0.590808\n",
       "15    0.724828\n",
       "16    0.850677\n",
       "17         NaN\n",
       "18         NaN\n",
       "19         NaN\n",
       "20         NaN\n",
       "21         NaN\n",
       "22         NaN\n",
       "23         NaN\n",
       "dtype: float64"
      ]
     },
     "execution_count": 32,
     "metadata": {},
     "output_type": "execute_result"
    }
   ],
   "source": [
    "df['valorPix']/df['quantidadePix']"
   ]
  },
  {
   "cell_type": "markdown",
   "id": "32098745",
   "metadata": {},
   "source": [
    " Trabalho Individual - Data Science\n",
    " \n",
    " Cálculo e interpretação das médias das demais variáveis numéricas presentes no conjunto de dados"
   ]
  },
  {
   "cell_type": "code",
   "execution_count": 3,
   "id": "cd7a2ad8",
   "metadata": {},
   "outputs": [
    {
     "data": {
      "application/vnd.microsoft.datawrangler.viewer.v0+json": {
       "columns": [
        {
         "name": "index",
         "rawType": "int64",
         "type": "integer"
        },
        {
         "name": "valorPix",
         "rawType": "float64",
         "type": "float"
        },
        {
         "name": "valorTED",
         "rawType": "float64",
         "type": "float"
        },
        {
         "name": "valorTEC",
         "rawType": "float64",
         "type": "float"
        },
        {
         "name": "valorCheque",
         "rawType": "float64",
         "type": "float"
        },
        {
         "name": "valorBoleto",
         "rawType": "float64",
         "type": "float"
        },
        {
         "name": "valorDOC",
         "rawType": "float64",
         "type": "float"
        },
        {
         "name": "valorCartaoCredito",
         "rawType": "float64",
         "type": "float"
        },
        {
         "name": "valorCartaoDebito",
         "rawType": "float64",
         "type": "float"
        },
        {
         "name": "valorCartaoPrePago",
         "rawType": "float64",
         "type": "float"
        },
        {
         "name": "valorTransIntrabancaria",
         "rawType": "float64",
         "type": "float"
        },
        {
         "name": "valorConvenios",
         "rawType": "float64",
         "type": "float"
        },
        {
         "name": "valorDebitoDireto",
         "rawType": "float64",
         "type": "float"
        },
        {
         "name": "valorSaques",
         "rawType": "float64",
         "type": "float"
        },
        {
         "name": "quantidadePix",
         "rawType": "float64",
         "type": "float"
        },
        {
         "name": "quantidadeTED",
         "rawType": "float64",
         "type": "float"
        },
        {
         "name": "quantidadeTEC",
         "rawType": "float64",
         "type": "float"
        },
        {
         "name": "quantidadeCheque",
         "rawType": "float64",
         "type": "float"
        },
        {
         "name": "quantidadeBoleto",
         "rawType": "float64",
         "type": "float"
        },
        {
         "name": "quantidadeDOC",
         "rawType": "float64",
         "type": "float"
        },
        {
         "name": "quantidadeCartaoCredito",
         "rawType": "float64",
         "type": "float"
        },
        {
         "name": "quantidadeCartaoDebito",
         "rawType": "float64",
         "type": "float"
        },
        {
         "name": "quantidadeCartaoPrePago",
         "rawType": "float64",
         "type": "float"
        },
        {
         "name": "quantidadeTransIntrabancaria",
         "rawType": "float64",
         "type": "float"
        },
        {
         "name": "quantidadeConvenios",
         "rawType": "float64",
         "type": "float"
        },
        {
         "name": "quantidadeDebitoDireto",
         "rawType": "float64",
         "type": "float"
        },
        {
         "name": "quantidadeSaques",
         "rawType": "float64",
         "type": "float"
        }
       ],
       "conversionMethod": "pd.DataFrame",
       "ref": "379ff8fb-bbc5-4f3b-bb51-d03b849980e8",
       "rows": [
        [
         "0",
         "7714115.37",
         "11647265.67",
         "0.0",
         "187486.45",
         "2530070.72",
         "0.0",
         "728621.99",
         "259929.79",
         "85637.9",
         "6994592.32",
         "1058938.03",
         "714937.33",
         "530634.04",
         "17960843.35",
         "211017.52",
         "0.0",
         "41511.28",
         "1459164.03",
         "0.0",
         "5351537.72",
         "4282401.27",
         "3339927.19",
         "492218.65",
         "633961.05",
         "3795103.04",
         "658974.39"
        ],
        [
         "1",
         "6975429.47",
         "11180217.68",
         "0.0",
         "194330.6",
         "2445000.04",
         "0.0",
         "663288.44",
         "241932.98",
         "78531.94",
         "6721491.99",
         "961319.37",
         "632328.97",
         "526867.56",
         "16546427.27",
         "203394.26",
         "0.0",
         "44243.73",
         "1466737.4",
         "0.0",
         "5042306.16",
         "4121806.1",
         "3132433.07",
         "426403.58",
         "661918.39",
         "3832577.08",
         "664226.23"
        ],
        [
         "2",
         "6284296.05",
         "10662555.73",
         "0.0",
         "221553.82",
         "2360423.79",
         "0.0",
         "631811.52",
         "239101.56",
         "77389.01",
         "6185603.98",
         "984002.13",
         "589043.56",
         "591985.25",
         "15356890.92",
         "203269.58",
         "0.0",
         "44981.97",
         "1439100.25",
         "0.0",
         "4879707.17",
         "4057958.85",
         "3046233.97",
         "328551.7",
         "679418.05",
         "3320590.5",
         "698603.67"
        ],
        [
         "3",
         "5429305.43",
         "9651625.56",
         "925.26",
         "190457.25",
         "2248972.68",
         "650.8",
         "607470.96",
         "235111.6",
         "73035.61",
         "5394494.97",
         "1079005.23",
         "573074.52",
         "522222.34",
         "13575455.59",
         "203714.16",
         "447.19",
         "46468.88",
         "1422731.42",
         "662.65",
         "4723437.71",
         "3952365.16",
         "2774237.04",
         "277240.15",
         "716794.83",
         "3238699.12",
         "683043.0"
        ],
        [
         "4",
         "5300155.0",
         "10090921.81",
         "5787.89",
         "221424.78",
         "2317765.95",
         "4684.98",
         "630191.34",
         "259057.92",
         "79592.4",
         "5620372.94",
         "992622.23",
         "713965.37",
         "644732.04",
         "13045669.89",
         "226471.15",
         "2571.85",
         "52101.15",
         "1452479.47",
         "4664.79",
         "4813848.35",
         "4238653.32",
         "2974411.01",
         "376307.77",
         "669806.38",
         "3102557.7",
         "752440.67"
        ]
       ],
       "shape": {
        "columns": 26,
        "rows": 5
       }
      },
      "text/html": [
       "<div>\n",
       "<style scoped>\n",
       "    .dataframe tbody tr th:only-of-type {\n",
       "        vertical-align: middle;\n",
       "    }\n",
       "\n",
       "    .dataframe tbody tr th {\n",
       "        vertical-align: top;\n",
       "    }\n",
       "\n",
       "    .dataframe thead th {\n",
       "        text-align: right;\n",
       "    }\n",
       "</style>\n",
       "<table border=\"1\" class=\"dataframe\">\n",
       "  <thead>\n",
       "    <tr style=\"text-align: right;\">\n",
       "      <th></th>\n",
       "      <th>valorPix</th>\n",
       "      <th>valorTED</th>\n",
       "      <th>valorTEC</th>\n",
       "      <th>valorCheque</th>\n",
       "      <th>valorBoleto</th>\n",
       "      <th>valorDOC</th>\n",
       "      <th>valorCartaoCredito</th>\n",
       "      <th>valorCartaoDebito</th>\n",
       "      <th>valorCartaoPrePago</th>\n",
       "      <th>valorTransIntrabancaria</th>\n",
       "      <th>...</th>\n",
       "      <th>quantidadeCheque</th>\n",
       "      <th>quantidadeBoleto</th>\n",
       "      <th>quantidadeDOC</th>\n",
       "      <th>quantidadeCartaoCredito</th>\n",
       "      <th>quantidadeCartaoDebito</th>\n",
       "      <th>quantidadeCartaoPrePago</th>\n",
       "      <th>quantidadeTransIntrabancaria</th>\n",
       "      <th>quantidadeConvenios</th>\n",
       "      <th>quantidadeDebitoDireto</th>\n",
       "      <th>quantidadeSaques</th>\n",
       "    </tr>\n",
       "  </thead>\n",
       "  <tbody>\n",
       "    <tr>\n",
       "      <th>0</th>\n",
       "      <td>7714115.37</td>\n",
       "      <td>11647265.67</td>\n",
       "      <td>0.00</td>\n",
       "      <td>187486.45</td>\n",
       "      <td>2530070.72</td>\n",
       "      <td>0.00</td>\n",
       "      <td>728621.99</td>\n",
       "      <td>259929.79</td>\n",
       "      <td>85637.90</td>\n",
       "      <td>6994592.32</td>\n",
       "      <td>...</td>\n",
       "      <td>41511.28</td>\n",
       "      <td>1459164.03</td>\n",
       "      <td>0.00</td>\n",
       "      <td>5351537.72</td>\n",
       "      <td>4282401.27</td>\n",
       "      <td>3339927.19</td>\n",
       "      <td>492218.65</td>\n",
       "      <td>633961.05</td>\n",
       "      <td>3795103.04</td>\n",
       "      <td>658974.39</td>\n",
       "    </tr>\n",
       "    <tr>\n",
       "      <th>1</th>\n",
       "      <td>6975429.47</td>\n",
       "      <td>11180217.68</td>\n",
       "      <td>0.00</td>\n",
       "      <td>194330.60</td>\n",
       "      <td>2445000.04</td>\n",
       "      <td>0.00</td>\n",
       "      <td>663288.44</td>\n",
       "      <td>241932.98</td>\n",
       "      <td>78531.94</td>\n",
       "      <td>6721491.99</td>\n",
       "      <td>...</td>\n",
       "      <td>44243.73</td>\n",
       "      <td>1466737.40</td>\n",
       "      <td>0.00</td>\n",
       "      <td>5042306.16</td>\n",
       "      <td>4121806.10</td>\n",
       "      <td>3132433.07</td>\n",
       "      <td>426403.58</td>\n",
       "      <td>661918.39</td>\n",
       "      <td>3832577.08</td>\n",
       "      <td>664226.23</td>\n",
       "    </tr>\n",
       "    <tr>\n",
       "      <th>2</th>\n",
       "      <td>6284296.05</td>\n",
       "      <td>10662555.73</td>\n",
       "      <td>0.00</td>\n",
       "      <td>221553.82</td>\n",
       "      <td>2360423.79</td>\n",
       "      <td>0.00</td>\n",
       "      <td>631811.52</td>\n",
       "      <td>239101.56</td>\n",
       "      <td>77389.01</td>\n",
       "      <td>6185603.98</td>\n",
       "      <td>...</td>\n",
       "      <td>44981.97</td>\n",
       "      <td>1439100.25</td>\n",
       "      <td>0.00</td>\n",
       "      <td>4879707.17</td>\n",
       "      <td>4057958.85</td>\n",
       "      <td>3046233.97</td>\n",
       "      <td>328551.70</td>\n",
       "      <td>679418.05</td>\n",
       "      <td>3320590.50</td>\n",
       "      <td>698603.67</td>\n",
       "    </tr>\n",
       "    <tr>\n",
       "      <th>3</th>\n",
       "      <td>5429305.43</td>\n",
       "      <td>9651625.56</td>\n",
       "      <td>925.26</td>\n",
       "      <td>190457.25</td>\n",
       "      <td>2248972.68</td>\n",
       "      <td>650.80</td>\n",
       "      <td>607470.96</td>\n",
       "      <td>235111.60</td>\n",
       "      <td>73035.61</td>\n",
       "      <td>5394494.97</td>\n",
       "      <td>...</td>\n",
       "      <td>46468.88</td>\n",
       "      <td>1422731.42</td>\n",
       "      <td>662.65</td>\n",
       "      <td>4723437.71</td>\n",
       "      <td>3952365.16</td>\n",
       "      <td>2774237.04</td>\n",
       "      <td>277240.15</td>\n",
       "      <td>716794.83</td>\n",
       "      <td>3238699.12</td>\n",
       "      <td>683043.00</td>\n",
       "    </tr>\n",
       "    <tr>\n",
       "      <th>4</th>\n",
       "      <td>5300155.00</td>\n",
       "      <td>10090921.81</td>\n",
       "      <td>5787.89</td>\n",
       "      <td>221424.78</td>\n",
       "      <td>2317765.95</td>\n",
       "      <td>4684.98</td>\n",
       "      <td>630191.34</td>\n",
       "      <td>259057.92</td>\n",
       "      <td>79592.40</td>\n",
       "      <td>5620372.94</td>\n",
       "      <td>...</td>\n",
       "      <td>52101.15</td>\n",
       "      <td>1452479.47</td>\n",
       "      <td>4664.79</td>\n",
       "      <td>4813848.35</td>\n",
       "      <td>4238653.32</td>\n",
       "      <td>2974411.01</td>\n",
       "      <td>376307.77</td>\n",
       "      <td>669806.38</td>\n",
       "      <td>3102557.70</td>\n",
       "      <td>752440.67</td>\n",
       "    </tr>\n",
       "  </tbody>\n",
       "</table>\n",
       "<p>5 rows × 26 columns</p>\n",
       "</div>"
      ],
      "text/plain": [
       "     valorPix     valorTED  valorTEC  valorCheque  valorBoleto  valorDOC  \\\n",
       "0  7714115.37  11647265.67      0.00    187486.45   2530070.72      0.00   \n",
       "1  6975429.47  11180217.68      0.00    194330.60   2445000.04      0.00   \n",
       "2  6284296.05  10662555.73      0.00    221553.82   2360423.79      0.00   \n",
       "3  5429305.43   9651625.56    925.26    190457.25   2248972.68    650.80   \n",
       "4  5300155.00  10090921.81   5787.89    221424.78   2317765.95   4684.98   \n",
       "\n",
       "   valorCartaoCredito  valorCartaoDebito  valorCartaoPrePago  \\\n",
       "0           728621.99          259929.79            85637.90   \n",
       "1           663288.44          241932.98            78531.94   \n",
       "2           631811.52          239101.56            77389.01   \n",
       "3           607470.96          235111.60            73035.61   \n",
       "4           630191.34          259057.92            79592.40   \n",
       "\n",
       "   valorTransIntrabancaria  ...  quantidadeCheque  quantidadeBoleto  \\\n",
       "0               6994592.32  ...          41511.28        1459164.03   \n",
       "1               6721491.99  ...          44243.73        1466737.40   \n",
       "2               6185603.98  ...          44981.97        1439100.25   \n",
       "3               5394494.97  ...          46468.88        1422731.42   \n",
       "4               5620372.94  ...          52101.15        1452479.47   \n",
       "\n",
       "   quantidadeDOC  quantidadeCartaoCredito  quantidadeCartaoDebito  \\\n",
       "0           0.00               5351537.72              4282401.27   \n",
       "1           0.00               5042306.16              4121806.10   \n",
       "2           0.00               4879707.17              4057958.85   \n",
       "3         662.65               4723437.71              3952365.16   \n",
       "4        4664.79               4813848.35              4238653.32   \n",
       "\n",
       "   quantidadeCartaoPrePago  quantidadeTransIntrabancaria  quantidadeConvenios  \\\n",
       "0               3339927.19                     492218.65            633961.05   \n",
       "1               3132433.07                     426403.58            661918.39   \n",
       "2               3046233.97                     328551.70            679418.05   \n",
       "3               2774237.04                     277240.15            716794.83   \n",
       "4               2974411.01                     376307.77            669806.38   \n",
       "\n",
       "   quantidadeDebitoDireto  quantidadeSaques  \n",
       "0              3795103.04         658974.39  \n",
       "1              3832577.08         664226.23  \n",
       "2              3320590.50         698603.67  \n",
       "3              3238699.12         683043.00  \n",
       "4              3102557.70         752440.67  \n",
       "\n",
       "[5 rows x 26 columns]"
      ]
     },
     "execution_count": 3,
     "metadata": {},
     "output_type": "execute_result"
    }
   ],
   "source": [
    "# Selecionar apenas as colunas numéricas\n",
    "df_numericas = df.select_dtypes(include='number')\n",
    "df_numericas.head()"
   ]
  },
  {
   "cell_type": "code",
   "execution_count": 4,
   "id": "0223d17c",
   "metadata": {},
   "outputs": [
    {
     "data": {
      "application/vnd.microsoft.datawrangler.viewer.v0+json": {
       "columns": [
        {
         "name": "index",
         "rawType": "object",
         "type": "string"
        },
        {
         "name": "Média",
         "rawType": "float64",
         "type": "float"
        }
       ],
       "conversionMethod": "pd.DataFrame",
       "ref": "8cb7d9ef-40fa-4014-8d88-5e4291f81987",
       "rows": [
        [
         "valorPix",
         "2490206.540416667"
        ],
        [
         "valorTED",
         "8838239.769583333"
        ],
        [
         "valorTEC",
         "4017.8487499999997"
        ],
        [
         "valorCheque",
         "267058.0325"
        ],
        [
         "valorBoleto",
         "1991933.2908333335"
        ],
        [
         "valorDOC",
         "20484.786666666663"
        ],
        [
         "valorCartaoCredito",
         "444863.43999999994"
        ],
        [
         "valorCartaoDebito",
         "221674.40041666664"
        ],
        [
         "valorCartaoPrePago",
         "42044.02208333334"
        ],
        [
         "valorTransIntrabancaria",
         "4771789.990833334"
        ],
        [
         "valorConvenios",
         "843292.0229166667"
        ],
        [
         "valorDebitoDireto",
         "689468.0770833333"
        ],
        [
         "valorSaques",
         "672562.3645833334"
        ],
        [
         "quantidadePix",
         "5781590.837083333"
        ],
        [
         "quantidadeTED",
         "286422.49374999997"
        ],
        [
         "quantidadeTEC",
         "1917.1354166666667"
        ],
        [
         "quantidadeCheque",
         "79705.45916666667"
        ],
        [
         "quantidadeBoleto",
         "1389848.5416666667"
        ],
        [
         "quantidadeDOC",
         "27298.50125"
        ],
        [
         "quantidadeCartaoCredito",
         "3566430.9975"
        ],
        [
         "quantidadeCartaoDebito",
         "3482304.4025"
        ],
        [
         "quantidadeCartaoPrePago",
         "1618758.7175"
        ],
        [
         "quantidadeTransIntrabancaria",
         "312749.82083333336"
        ],
        [
         "quantidadeConvenios",
         "757248.1720833335"
        ],
        [
         "quantidadeDebitoDireto",
         "2174717.3004166665"
        ],
        [
         "quantidadeSaques",
         "883278.3741666666"
        ]
       ],
       "shape": {
        "columns": 1,
        "rows": 26
       }
      },
      "text/html": [
       "<div>\n",
       "<style scoped>\n",
       "    .dataframe tbody tr th:only-of-type {\n",
       "        vertical-align: middle;\n",
       "    }\n",
       "\n",
       "    .dataframe tbody tr th {\n",
       "        vertical-align: top;\n",
       "    }\n",
       "\n",
       "    .dataframe thead th {\n",
       "        text-align: right;\n",
       "    }\n",
       "</style>\n",
       "<table border=\"1\" class=\"dataframe\">\n",
       "  <thead>\n",
       "    <tr style=\"text-align: right;\">\n",
       "      <th></th>\n",
       "      <th>Média</th>\n",
       "    </tr>\n",
       "  </thead>\n",
       "  <tbody>\n",
       "    <tr>\n",
       "      <th>valorPix</th>\n",
       "      <td>2.490207e+06</td>\n",
       "    </tr>\n",
       "    <tr>\n",
       "      <th>valorTED</th>\n",
       "      <td>8.838240e+06</td>\n",
       "    </tr>\n",
       "    <tr>\n",
       "      <th>valorTEC</th>\n",
       "      <td>4.017849e+03</td>\n",
       "    </tr>\n",
       "    <tr>\n",
       "      <th>valorCheque</th>\n",
       "      <td>2.670580e+05</td>\n",
       "    </tr>\n",
       "    <tr>\n",
       "      <th>valorBoleto</th>\n",
       "      <td>1.991933e+06</td>\n",
       "    </tr>\n",
       "    <tr>\n",
       "      <th>valorDOC</th>\n",
       "      <td>2.048479e+04</td>\n",
       "    </tr>\n",
       "    <tr>\n",
       "      <th>valorCartaoCredito</th>\n",
       "      <td>4.448634e+05</td>\n",
       "    </tr>\n",
       "    <tr>\n",
       "      <th>valorCartaoDebito</th>\n",
       "      <td>2.216744e+05</td>\n",
       "    </tr>\n",
       "    <tr>\n",
       "      <th>valorCartaoPrePago</th>\n",
       "      <td>4.204402e+04</td>\n",
       "    </tr>\n",
       "    <tr>\n",
       "      <th>valorTransIntrabancaria</th>\n",
       "      <td>4.771790e+06</td>\n",
       "    </tr>\n",
       "    <tr>\n",
       "      <th>valorConvenios</th>\n",
       "      <td>8.432920e+05</td>\n",
       "    </tr>\n",
       "    <tr>\n",
       "      <th>valorDebitoDireto</th>\n",
       "      <td>6.894681e+05</td>\n",
       "    </tr>\n",
       "    <tr>\n",
       "      <th>valorSaques</th>\n",
       "      <td>6.725624e+05</td>\n",
       "    </tr>\n",
       "    <tr>\n",
       "      <th>quantidadePix</th>\n",
       "      <td>5.781591e+06</td>\n",
       "    </tr>\n",
       "    <tr>\n",
       "      <th>quantidadeTED</th>\n",
       "      <td>2.864225e+05</td>\n",
       "    </tr>\n",
       "    <tr>\n",
       "      <th>quantidadeTEC</th>\n",
       "      <td>1.917135e+03</td>\n",
       "    </tr>\n",
       "    <tr>\n",
       "      <th>quantidadeCheque</th>\n",
       "      <td>7.970546e+04</td>\n",
       "    </tr>\n",
       "    <tr>\n",
       "      <th>quantidadeBoleto</th>\n",
       "      <td>1.389849e+06</td>\n",
       "    </tr>\n",
       "    <tr>\n",
       "      <th>quantidadeDOC</th>\n",
       "      <td>2.729850e+04</td>\n",
       "    </tr>\n",
       "    <tr>\n",
       "      <th>quantidadeCartaoCredito</th>\n",
       "      <td>3.566431e+06</td>\n",
       "    </tr>\n",
       "    <tr>\n",
       "      <th>quantidadeCartaoDebito</th>\n",
       "      <td>3.482304e+06</td>\n",
       "    </tr>\n",
       "    <tr>\n",
       "      <th>quantidadeCartaoPrePago</th>\n",
       "      <td>1.618759e+06</td>\n",
       "    </tr>\n",
       "    <tr>\n",
       "      <th>quantidadeTransIntrabancaria</th>\n",
       "      <td>3.127498e+05</td>\n",
       "    </tr>\n",
       "    <tr>\n",
       "      <th>quantidadeConvenios</th>\n",
       "      <td>7.572482e+05</td>\n",
       "    </tr>\n",
       "    <tr>\n",
       "      <th>quantidadeDebitoDireto</th>\n",
       "      <td>2.174717e+06</td>\n",
       "    </tr>\n",
       "    <tr>\n",
       "      <th>quantidadeSaques</th>\n",
       "      <td>8.832784e+05</td>\n",
       "    </tr>\n",
       "  </tbody>\n",
       "</table>\n",
       "</div>"
      ],
      "text/plain": [
       "                                     Média\n",
       "valorPix                      2.490207e+06\n",
       "valorTED                      8.838240e+06\n",
       "valorTEC                      4.017849e+03\n",
       "valorCheque                   2.670580e+05\n",
       "valorBoleto                   1.991933e+06\n",
       "valorDOC                      2.048479e+04\n",
       "valorCartaoCredito            4.448634e+05\n",
       "valorCartaoDebito             2.216744e+05\n",
       "valorCartaoPrePago            4.204402e+04\n",
       "valorTransIntrabancaria       4.771790e+06\n",
       "valorConvenios                8.432920e+05\n",
       "valorDebitoDireto             6.894681e+05\n",
       "valorSaques                   6.725624e+05\n",
       "quantidadePix                 5.781591e+06\n",
       "quantidadeTED                 2.864225e+05\n",
       "quantidadeTEC                 1.917135e+03\n",
       "quantidadeCheque              7.970546e+04\n",
       "quantidadeBoleto              1.389849e+06\n",
       "quantidadeDOC                 2.729850e+04\n",
       "quantidadeCartaoCredito       3.566431e+06\n",
       "quantidadeCartaoDebito        3.482304e+06\n",
       "quantidadeCartaoPrePago       1.618759e+06\n",
       "quantidadeTransIntrabancaria  3.127498e+05\n",
       "quantidadeConvenios           7.572482e+05\n",
       "quantidadeDebitoDireto        2.174717e+06\n",
       "quantidadeSaques              8.832784e+05"
      ]
     },
     "execution_count": 4,
     "metadata": {},
     "output_type": "execute_result"
    }
   ],
   "source": [
    "# Calcular a média de cada variável numérica\n",
    "medias = df_numericas.mean().to_frame(name='Média')\n",
    "medias\n"
   ]
  },
  {
   "cell_type": "markdown",
   "id": "403bbb8b",
   "metadata": {},
   "source": [
    " Interpretação das Médias\n",
    "\n",
    "valorPix → R$ 2.490.206,54\n",
    "O Pix movimenta, em média, R$ 2,49 bilhões por trimestre.\n",
    "\n",
    "Interpretação: Provavelmente o meio de pagamento mais utilizado atualmente, com uso massivo tanto por pessoas físicas quanto empresas. \n",
    "\n",
    "valorTED → R$ 8.838.239,77\n",
    "Média de R$ 8,84 milhões por trimestre.\n",
    "\n",
    "Interpretação: Apesar de ser um valor significativo, está muito abaixo do volume do Pix, indicando que a TED tem perdido espaço, mas ainda é usada para transferências de valor mais alto e/ou entre empresas.\n",
    "\n",
    "valorTEC → R$ 4.017,85\n",
    "Muito inferior às outras médias.\n",
    "\n",
    "Interpretação: TEC (Transferência Eletrônica de Crédito, usada por órgãos públicos) tem uso bastante específico e limitado. Esse valor pequeno confirma que é um meio de pagamento de nicho.\n",
    "\n",
    "valorCheque → R$ 267.058,03\n",
    "Valor médio modesto.\n",
    "\n",
    "Interpretação: Cheques estão em claro declínio no Brasil. Esse valor reforça o desuso gradual, permanecendo apenas em transações específicas e em menor escala.\n",
    "\n",
    "valorBoleto → R$ 1.991.933,29\n",
    "Média de quase R$ 2 bilhões por trimestre.\n",
    "\n",
    "Interpretação: O boleto ainda é muito usado, especialmente em cobranças, pagamentos de serviços e compras online com parcelamento. Embora inferior ao Pix, continua relevante.\n",
    "\n",
    "valorDOC → R$ 20.484,79\n",
    "Muito baixo.\n",
    "\n",
    "Interpretação: DOC está praticamente obsoleto, superado por Pix e TED. Esse valor mostra que seu uso é raríssimo.\n",
    "\n",
    "valorCartaoCredito → R$ 444.863,44\n",
    "Volume expressivo.\n",
    "\n",
    "Interpretação: O cartão de crédito permanece muito utilizado, principalmente no consumo pessoal. A média sugere que ele tem papel importante, embora inferior ao Pix e boleto.\n",
    "\n",
    "valorCartaoDebito → R$ 221.674,40\n",
    "Uso relevante, mas menor que o crédito.\n",
    "\n",
    "Interpretação: Com o surgimento do Pix, o uso do débito diminuiu. Ainda assim, segue sendo uma alternativa bastante presente no varejo.\n",
    "\n",
    "valorCartaoPrePago → R$ 42.044,02\n",
    "Valor modesto.\n",
    "\n",
    "Interpretação: Cartões pré-pagos são utilizados em situações específicas (como vale-benefício ou viagens). Uso relativamente pequeno.\n",
    "\n",
    "valorTransIntrabancaria → R$ 4.771.789,99\n",
    "Volume alto.\n",
    "\n",
    "Interpretação: Transferências internas (entre contas do mesmo banco) ainda são muito comuns. Valor elevado pode refletir movimentações empresariais ou automatizadas.\n"
   ]
  }
 ],
 "metadata": {
  "kernelspec": {
   "display_name": ".venv",
   "language": "python",
   "name": "python3"
  },
  "language_info": {
   "codemirror_mode": {
    "name": "ipython",
    "version": 3
   },
   "file_extension": ".py",
   "mimetype": "text/x-python",
   "name": "python",
   "nbconvert_exporter": "python",
   "pygments_lexer": "ipython3",
   "version": "3.13.3"
  }
 },
 "nbformat": 4,
 "nbformat_minor": 5
}
