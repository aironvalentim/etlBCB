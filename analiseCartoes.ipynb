{
 "cells": [
  {
   "cell_type": "code",
   "execution_count": null,
   "id": "95477d59",
   "metadata": {},
   "outputs": [
    {
     "data": {
      "text/plain": [
       "<function Connection.close()>"
      ]
     },
     "execution_count": 11,
     "metadata": {},
     "output_type": "execute_result"
    }
   ],
   "source": [
    "import pandas as pd\n",
    "import sqlite3\n",
    "\n",
    "con = sqlite3.connect(\"src/datasets/etlbcb.db\")\n",
    "query = \"select * from meios_pagamentos_tri\"\n",
    "df = pd.read_sql(query, con)\n",
    "con.close"
   ]
  },
  {
   "cell_type": "code",
   "execution_count": null,
   "id": "3c42250c",
   "metadata": {},
   "outputs": [
    {
     "name": "stdout",
     "output_type": "stream",
     "text": [
      "Media das transações pix por trimestre:  2490206.54\n"
     ]
    }
   ],
   "source": [
    "soma  = df['valorPix'].sum()\n",
    "total = df['valorPix'].count()\n",
    "\n",
    "print(\"Media das transações pix por trimestre: \",round(soma/total, 2))"
   ]
  },
  {
   "cell_type": "markdown",
   "id": "636c7036",
   "metadata": {},
   "source": [
    "Qual é a media do valor por transação pix no brasil?"
   ]
  },
  {
   "cell_type": "code",
   "execution_count": 26,
   "id": "bfb0f93b",
   "metadata": {},
   "outputs": [
    {
     "name": "stdout",
     "output_type": "stream",
     "text": [
      "Média de valores por transação:  430713035.67\n"
     ]
    }
   ],
   "source": [
    "soma_valores = df['valorPix'].sum()*1e6\n",
    "soma_transacoes = df['quantidadePix'].sum()\n",
    "media_por_transacoes = (soma_valores*1e3 / soma_transacoes)\n",
    "print(\"Média de valores por transação: \", round(media_por_transacoes, 2))"
   ]
  },
  {
   "cell_type": "markdown",
   "id": "5ee3f2a0",
   "metadata": {},
   "source": [
    "Resolvendo com o pandas\n"
   ]
  },
  {
   "cell_type": "code",
   "execution_count": 27,
   "id": "61d79c2e",
   "metadata": {},
   "outputs": [
    {
     "data": {
      "text/plain": [
       "np.float64(2490206540416.667)"
      ]
     },
     "execution_count": 27,
     "metadata": {},
     "output_type": "execute_result"
    }
   ],
   "source": [
    "df['valorPix'].mean()*1e6"
   ]
  },
  {
   "cell_type": "code",
   "execution_count": 30,
   "id": "a344eaf4",
   "metadata": {},
   "outputs": [
    {
     "data": {
      "text/plain": [
       "np.float64(491.13828791552487)"
      ]
     },
     "execution_count": 30,
     "metadata": {},
     "output_type": "execute_result"
    }
   ],
   "source": [
    "(df['valorPix']/df['quantidadePix']).mean()*1e3"
   ]
  },
  {
   "cell_type": "code",
   "execution_count": 31,
   "id": "c0890469",
   "metadata": {},
   "outputs": [
    {
     "data": {
      "text/plain": [
       "np.float64(430.71303566561505)"
      ]
     },
     "execution_count": 31,
     "metadata": {},
     "output_type": "execute_result"
    }
   ],
   "source": [
    "soma1 = (df['valorPix']).mean()*1e3\n",
    "soma2 = (df['quantidadePix']).mean()\n",
    "soma1/soma2"
   ]
  },
  {
   "cell_type": "code",
   "execution_count": 32,
   "id": "ead8eade",
   "metadata": {},
   "outputs": [
    {
     "data": {
      "text/plain": [
       "0     0.429496\n",
       "1     0.421567\n",
       "2     0.409217\n",
       "3     0.399935\n",
       "4     0.406277\n",
       "5     0.402046\n",
       "6     0.415085\n",
       "7     0.424720\n",
       "8     0.428185\n",
       "9     0.449777\n",
       "10    0.466895\n",
       "11    0.486545\n",
       "12    0.499551\n",
       "13    0.543742\n",
       "14    0.590808\n",
       "15    0.724828\n",
       "16    0.850677\n",
       "17         NaN\n",
       "18         NaN\n",
       "19         NaN\n",
       "20         NaN\n",
       "21         NaN\n",
       "22         NaN\n",
       "23         NaN\n",
       "dtype: float64"
      ]
     },
     "execution_count": 32,
     "metadata": {},
     "output_type": "execute_result"
    }
   ],
   "source": [
    "df['valorPix']/df['quantidadePix']"
   ]
  }
 ],
 "metadata": {
  "kernelspec": {
   "display_name": ".venv",
   "language": "python",
   "name": "python3"
  },
  "language_info": {
   "codemirror_mode": {
    "name": "ipython",
    "version": 3
   },
   "file_extension": ".py",
   "mimetype": "text/x-python",
   "name": "python",
   "nbconvert_exporter": "python",
   "pygments_lexer": "ipython3",
   "version": "3.12.6"
  }
 },
 "nbformat": 4,
 "nbformat_minor": 5
}
